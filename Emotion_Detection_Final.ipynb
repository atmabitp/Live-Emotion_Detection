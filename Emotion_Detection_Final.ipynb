{
 "cells": [
  {
   "cell_type": "code",
   "execution_count": 1,
   "metadata": {
    "scrolled": true
   },
   "outputs": [
    {
     "name": "stderr",
     "output_type": "stream",
     "text": [
      "Using TensorFlow backend.\n"
     ]
    }
   ],
   "source": [
    "import cv2\n",
    "import os\n",
    "from keras.utils import np_utils\n",
    "import numpy as np"
   ]
  },
  {
   "cell_type": "code",
   "execution_count": 2,
   "metadata": {},
   "outputs": [
    {
     "name": "stdout",
     "output_type": "stream",
     "text": [
      "{'Angry': 0, 'Confused': 1, 'Happy': 2}\n",
      "['Angry', 'Confused', 'Happy']\n",
      "[0, 1, 2]\n"
     ]
    }
   ],
   "source": [
    "\n",
    "    data_path='data'\n",
    "    categories=os.listdir(data_path)\n",
    "    labels=[i for i in range(len(categories))]\n",
    "\n",
    "    label_dict=dict(zip(categories,labels))\n",
    "\n",
    "    print(label_dict)\n",
    "    print(categories)\n",
    "    print(labels)"
   ]
  },
  {
   "cell_type": "code",
   "execution_count": 3,
   "metadata": {},
   "outputs": [],
   "source": [
    "img_size=100\n",
    "data=[]\n",
    "target=[]\n",
    "\n",
    "\n",
    "cascade= cv2.CascadeClassifier(cv2.data.haarcascades + \"haarcascade_frontalface_default.xml\")"
   ]
  },
  {
   "cell_type": "code",
   "execution_count": 4,
   "metadata": {},
   "outputs": [],
   "source": [
    "    for category in categories:\n",
    "        folder_path = os.path.join(data_path, category)\n",
    "        img_names = os.listdir(folder_path)\n",
    "\n",
    "        for img_name in img_names:\n",
    "            img_path = os.path.join(folder_path, img_name)\n",
    "            img = cv2.imread(img_path)\n",
    "            faces = cascade.detectMultiScale(img)\n",
    "            try:\n",
    "                for f in faces:\n",
    "                    x, y, w, h = [v for v in f]#coordinate, and hight\n",
    "                    sub_face = img[y:y + h, x:x + w]#croping the images, only to show the face\n",
    "                    gray_image = cv2.cvtColor(sub_face, cv2.COLOR_BGR2GRAY)\n",
    "                    resized = cv2.resize(gray_image, (img_size, img_size))\n",
    "                    data.append(resized)\n",
    "                    target.append(label_dict[category])\n",
    "            except Exception as e:\n",
    "                print('Exception:', e)"
   ]
  },
  {
   "cell_type": "code",
   "execution_count": 5,
   "metadata": {},
   "outputs": [],
   "source": [
    "data=np.array(data)/255.0\n",
    "data=np.reshape(data,(data.shape[0],img_size,img_size,1))\n",
    "target=np.array(target)\n",
    "\n",
    "new_target=np_utils.to_categorical(target)"
   ]
  },
  {
   "cell_type": "code",
   "execution_count": 6,
   "metadata": {},
   "outputs": [],
   "source": [
    "np.save('C:/Users/Atmabit/Emotion_Detection_Final/training/data',data)\n",
    "np.save('C:/Users/Atmabit/Emotion_Detection_Final/training/target_data',new_target)"
   ]
  },
  {
   "cell_type": "code",
   "execution_count": 7,
   "metadata": {},
   "outputs": [],
   "source": [
    "data=np.load('C:/Users/Atmabit/Emotion_Detection_Final/training/data.npy')\n",
    "target=np.load('C:/Users/Atmabit/Emotion_Detection_Final/training/target_data.npy')"
   ]
  },
  {
   "cell_type": "markdown",
   "metadata": {},
   "source": [
    "Now We will build the Model"
   ]
  },
  {
   "cell_type": "code",
   "execution_count": 8,
   "metadata": {},
   "outputs": [],
   "source": [
    "from tensorflow.keras.models import Sequential\n",
    "from tensorflow.keras.layers import Dense,Activation,Flatten,Dropout\n",
    "from tensorflow.keras.layers import Conv2D,MaxPooling2D\n",
    "from tensorflow.keras.callbacks import ModelCheckpoint"
   ]
  },
  {
   "cell_type": "code",
   "execution_count": 9,
   "metadata": {},
   "outputs": [],
   "source": [
    "model=Sequential()\n",
    "model.add(Conv2D(200,(3,3),input_shape=data.shape[1:]))\n",
    "model.add(Activation('relu'))\n",
    "model.add(MaxPooling2D(pool_size=(2,2)))\n",
    "#The first CNN layer followed by Relu and MaxPooling layers\n",
    "\n",
    "model.add(Conv2D(100,(3,3)))\n",
    "model.add(Activation('relu'))\n",
    "model.add(MaxPooling2D(pool_size=(2,2)))\n",
    "#The second convolution layer followed by Relu and MaxPooling layers\n",
    "\n",
    "model.add(Flatten())\n",
    "model.add(Dropout(0.5))\n",
    "# #Flatten layer to stack the output convolutions from second convolution layer\n",
    "model.add(Dense(50,activation='relu'))\n",
    "# #Dense layer of 64 neurons\n",
    "model.add(Dense(3,activation='softmax'))\n",
    "# #The Final layer with two outputs for two categories\n",
    "\n",
    "model.compile(loss='categorical_crossentropy',optimizer='adam',metrics=['accuracy'])"
   ]
  },
  {
   "cell_type": "code",
   "execution_count": 10,
   "metadata": {},
   "outputs": [
    {
     "name": "stdout",
     "output_type": "stream",
     "text": [
      "Model: \"sequential\"\n",
      "_________________________________________________________________\n",
      "Layer (type)                 Output Shape              Param #   \n",
      "=================================================================\n",
      "conv2d (Conv2D)              (None, 98, 98, 200)       2000      \n",
      "_________________________________________________________________\n",
      "activation (Activation)      (None, 98, 98, 200)       0         \n",
      "_________________________________________________________________\n",
      "max_pooling2d (MaxPooling2D) (None, 49, 49, 200)       0         \n",
      "_________________________________________________________________\n",
      "conv2d_1 (Conv2D)            (None, 47, 47, 100)       180100    \n",
      "_________________________________________________________________\n",
      "activation_1 (Activation)    (None, 47, 47, 100)       0         \n",
      "_________________________________________________________________\n",
      "max_pooling2d_1 (MaxPooling2 (None, 23, 23, 100)       0         \n",
      "_________________________________________________________________\n",
      "flatten (Flatten)            (None, 52900)             0         \n",
      "_________________________________________________________________\n",
      "dropout (Dropout)            (None, 52900)             0         \n",
      "_________________________________________________________________\n",
      "dense (Dense)                (None, 50)                2645050   \n",
      "_________________________________________________________________\n",
      "dense_1 (Dense)              (None, 3)                 153       \n",
      "=================================================================\n",
      "Total params: 2,827,303\n",
      "Trainable params: 2,827,303\n",
      "Non-trainable params: 0\n",
      "_________________________________________________________________\n"
     ]
    }
   ],
   "source": [
    "model.summary()"
   ]
  },
  {
   "cell_type": "code",
   "execution_count": 12,
   "metadata": {},
   "outputs": [],
   "source": [
    "from sklearn.model_selection import train_test_split"
   ]
  },
  {
   "cell_type": "code",
   "execution_count": 13,
   "metadata": {},
   "outputs": [
    {
     "name": "stdout",
     "output_type": "stream",
     "text": [
      "Epoch 1/12\n",
      "15/15 [==============================] - 23s 2s/step - loss: 1.2846 - accuracy: 0.4147 - val_loss: 1.1132 - val_accuracy: 0.4035\n",
      "Epoch 2/12\n",
      "15/15 [==============================] - 22s 1s/step - loss: 1.0667 - accuracy: 0.4467 - val_loss: 1.0503 - val_accuracy: 0.4912\n",
      "Epoch 3/12\n",
      "15/15 [==============================] - 22s 1s/step - loss: 1.0325 - accuracy: 0.4922 - val_loss: 0.9726 - val_accuracy: 0.5614\n",
      "Epoch 4/12\n",
      "15/15 [==============================] - 22s 1s/step - loss: 0.9499 - accuracy: 0.5814 - val_loss: 0.8362 - val_accuracy: 0.5965\n",
      "Epoch 5/12\n",
      "15/15 [==============================] - 22s 1s/step - loss: 0.8063 - accuracy: 0.6492 - val_loss: 0.7263 - val_accuracy: 0.6842\n",
      "Epoch 6/12\n",
      "15/15 [==============================] - 22s 2s/step - loss: 0.7414 - accuracy: 0.6780 - val_loss: 0.6922 - val_accuracy: 0.6579\n",
      "Epoch 7/12\n",
      "15/15 [==============================] - 22s 1s/step - loss: 0.6948 - accuracy: 0.6905 - val_loss: 0.8171 - val_accuracy: 0.6140\n",
      "Epoch 8/12\n",
      "15/15 [==============================] - 22s 1s/step - loss: 0.7343 - accuracy: 0.6590 - val_loss: 0.6347 - val_accuracy: 0.7105\n",
      "Epoch 9/12\n",
      "15/15 [==============================] - 23s 2s/step - loss: 0.6014 - accuracy: 0.7095 - val_loss: 0.6798 - val_accuracy: 0.6667\n",
      "Epoch 10/12\n",
      "15/15 [==============================] - 22s 1s/step - loss: 0.6437 - accuracy: 0.6756 - val_loss: 0.5819 - val_accuracy: 0.7632\n",
      "Epoch 11/12\n",
      "15/15 [==============================] - 23s 2s/step - loss: 0.5970 - accuracy: 0.7162 - val_loss: 0.6015 - val_accuracy: 0.7193\n",
      "Epoch 12/12\n",
      "15/15 [==============================] - 23s 2s/step - loss: 0.5164 - accuracy: 0.7467 - val_loss: 0.5596 - val_accuracy: 0.7807\n"
     ]
    }
   ],
   "source": [
    "train_data,test_data,train_target,test_target=train_test_split(data,target,test_size=0.1)\n",
    "#\n",
    "checkpoint = ModelCheckpoint('./training/model-{epoch:03d}.h5',monitor='val_loss',verbose=0,save_best_only=True,mode='auto')\n",
    "history=model.fit(train_data,train_target, epochs=12,callbacks=[checkpoint],validation_split=0.2)\n"
   ]
  },
  {
   "cell_type": "code",
   "execution_count": 14,
   "metadata": {},
   "outputs": [],
   "source": [
    "import matplotlib.pyplot as plt"
   ]
  },
  {
   "cell_type": "code",
   "execution_count": 15,
   "metadata": {},
   "outputs": [
    {
     "data": {
      "image/png": "[encoded data removed]",
      "text/plain": [
       "<Figure size 432x288 with 1 Axes>"
      ]
     },
     "metadata": {
      "needs_background": "light"
     },
     "output_type": "display_data"
    }
   ],
   "source": [
    "plt.plot(history.history['loss'], 'r' , label = 'training loss')\n",
    "plt.plot(history.history['val_loss'], 'b' , label = 'validation loss')\n",
    "plt.xlabel('# epochs')\n",
    "plt.ylabel('loss')\n",
    "plt.legend()\n",
    "plt.show()"
   ]
  },
  {
   "cell_type": "code",
   "execution_count": 16,
   "metadata": {},
   "outputs": [
    {
     "name": "stdout",
     "output_type": "stream",
     "text": [
      "2/2 [==============================] - 1s 392ms/step - loss: 0.6634 - accuracy: 0.7344\n",
      "[0.6634116172790527, 0.734375]\n"
     ]
    }
   ],
   "source": [
    "print(model.evaluate(test_data, test_target))"
   ]
  },
  {
   "cell_type": "code",
   "execution_count": 17,
   "metadata": {},
   "outputs": [],
   "source": [
    "from tensorflow.keras.preprocessing.image import img_to_array\n",
    "from tensorflow.keras.models import load_model\n",
    "\n",
    "model=load_model('./training/model-012.h5')\n",
    "face_clsfr= cv2.CascadeClassifier(cv2.data.haarcascades + \"haarcascade_frontalface_default.xml\")\n",
    "cap1=cv2.VideoCapture(\"Vid1.mp4\")\n",
    "cap2=cv2.VideoCapture(\"My.mp4\")\n",
    "\n",
    "label_dict= {0:'Angry',1:'Confused',2:'Happy'}\n",
    "color_dict={0:(0,0,255),1:(0,255,0),2:(255,0,255)}\n"
   ]
  },
  {
   "cell_type": "code",
   "execution_count": 18,
   "metadata": {},
   "outputs": [
    {
     "ename": "error",
     "evalue": "OpenCV(4.5.1) C:\\Users\\appveyor\\AppData\\Local\\Temp\\1\\pip-req-build-oduouqig\\opencv\\modules\\imgproc\\src\\color.cpp:182: error: (-215:Assertion failed) !_src.empty() in function 'cv::cvtColor'\n",
     "output_type": "error",
     "traceback": [
      "\u001b[1;31m---------------------------------------------------------------------------\u001b[0m",
      "\u001b[1;31merror\u001b[0m                                     Traceback (most recent call last)",
      "\u001b[1;32m<ipython-input-18-84e1f7d29d61>\u001b[0m in \u001b[0;36m<module>\u001b[1;34m\u001b[0m\n\u001b[0;32m      2\u001b[0m \u001b[1;33m\u001b[0m\u001b[0m\n\u001b[0;32m      3\u001b[0m     \u001b[0mret\u001b[0m\u001b[1;33m,\u001b[0m \u001b[0mimg\u001b[0m \u001b[1;33m=\u001b[0m \u001b[0mcap1\u001b[0m\u001b[1;33m.\u001b[0m\u001b[0mread\u001b[0m\u001b[1;33m(\u001b[0m\u001b[1;33m)\u001b[0m\u001b[1;33m\u001b[0m\u001b[1;33m\u001b[0m\u001b[0m\n\u001b[1;32m----> 4\u001b[1;33m     \u001b[0mgray\u001b[0m \u001b[1;33m=\u001b[0m \u001b[0mcv2\u001b[0m\u001b[1;33m.\u001b[0m\u001b[0mcvtColor\u001b[0m\u001b[1;33m(\u001b[0m\u001b[0mimg\u001b[0m\u001b[1;33m,\u001b[0m \u001b[0mcv2\u001b[0m\u001b[1;33m.\u001b[0m\u001b[0mCOLOR_BGR2GRAY\u001b[0m\u001b[1;33m)\u001b[0m\u001b[1;33m\u001b[0m\u001b[1;33m\u001b[0m\u001b[0m\n\u001b[0m\u001b[0;32m      5\u001b[0m     \u001b[0mfaces\u001b[0m \u001b[1;33m=\u001b[0m \u001b[0mface_clsfr\u001b[0m\u001b[1;33m.\u001b[0m\u001b[0mdetectMultiScale\u001b[0m\u001b[1;33m(\u001b[0m\u001b[0mgray\u001b[0m\u001b[1;33m,\u001b[0m \u001b[1;36m1.3\u001b[0m\u001b[1;33m,\u001b[0m \u001b[1;36m3\u001b[0m\u001b[1;33m)\u001b[0m\u001b[1;33m\u001b[0m\u001b[1;33m\u001b[0m\u001b[0m\n\u001b[0;32m      6\u001b[0m \u001b[1;33m\u001b[0m\u001b[0m\n",
      "\u001b[1;31merror\u001b[0m: OpenCV(4.5.1) C:\\Users\\appveyor\\AppData\\Local\\Temp\\1\\pip-req-build-oduouqig\\opencv\\modules\\imgproc\\src\\color.cpp:182: error: (-215:Assertion failed) !_src.empty() in function 'cv::cvtColor'\n"
     ]
    }
   ],
   "source": [
    "while (True):\n",
    "\n",
    "    ret, img = cap1.read()\n",
    "    gray = cv2.cvtColor(img, cv2.COLOR_BGR2GRAY)\n",
    "    faces = face_clsfr.detectMultiScale(gray, 1.3, 3)\n",
    "\n",
    "    for (x, y, w, h) in faces:\n",
    "        \n",
    "        face_img = gray[y:y + w, x:x + w]\n",
    "        resized = cv2.resize(face_img, (100, 100))\n",
    "        normalized = resized / 255.0\n",
    "        reshaped = np.reshape(normalized, (1, 100, 100, 1))\n",
    "        result = model.predict(reshaped)\n",
    "\n",
    "        label = np.argmax(result, axis=1)[0]\n",
    "\n",
    "        cv2.rectangle(img, (x, y), (x + w, y + h), color_dict[label], 2)\n",
    "        cv2.rectangle(img, (x, y - 40), (x + w, y), color_dict[label], -1)\n",
    "        cv2.putText(img, label_dict[label], (x, y - 10), cv2.FONT_HERSHEY_SIMPLEX, 0.8, (255, 255, 255), 2)\n",
    "\n",
    "    cv2.imshow('LIVE', img)\n",
    "    #out.write(img)\n",
    "    key = cv2.waitKey(1)\n",
    "\n",
    "    if (key == 27):\n",
    "        break\n",
    "    if ret == False:\n",
    "        break\n",
    "\n",
    "cv2.destroyAllWindows()\n",
    "cap1.release()\n"
   ]
  },
  {
   "cell_type": "code",
   "execution_count": null,
   "metadata": {},
   "outputs": [],
   "source": [
    "\n",
    "    "
   ]
  },
  {
   "cell_type": "code",
   "execution_count": null,
   "metadata": {},
   "outputs": [],
   "source": []
  }
 ],
 "metadata": {
  "kernelspec": {
   "display_name": "Python [conda env:Anaconda3] *",
   "language": "python",
   "name": "conda-env-Anaconda3-py"
  },
  "language_info": {
   "codemirror_mode": {
    "name": "ipython",
    "version": 3
   },
   "file_extension": ".py",
   "mimetype": "text/x-python",
   "name": "python",
   "nbconvert_exporter": "python",
   "pygments_lexer": "ipython3",
   "version": "3.7.6"
  }
 },
 "nbformat": 4,
 "nbformat_minor": 4
}
